{
 "cells": [
  {
   "cell_type": "code",
   "execution_count": 1,
   "id": "b80b0eae",
   "metadata": {},
   "outputs": [],
   "source": [
    "import pandas as pd\n",
    "import numpy as np\n",
    "import matplotlib.pyplot as plt\n",
    "import seaborn as sns"
   ]
  },
  {
   "cell_type": "code",
   "execution_count": 2,
   "id": "7e783603",
   "metadata": {},
   "outputs": [
    {
     "data": {
      "text/html": [
       "<div>\n",
       "<style scoped>\n",
       "    .dataframe tbody tr th:only-of-type {\n",
       "        vertical-align: middle;\n",
       "    }\n",
       "\n",
       "    .dataframe tbody tr th {\n",
       "        vertical-align: top;\n",
       "    }\n",
       "\n",
       "    .dataframe thead th {\n",
       "        text-align: right;\n",
       "    }\n",
       "</style>\n",
       "<table border=\"1\" class=\"dataframe\">\n",
       "  <thead>\n",
       "    <tr style=\"text-align: right;\">\n",
       "      <th></th>\n",
       "      <th>userid</th>\n",
       "      <th>version</th>\n",
       "      <th>sum_gamerounds</th>\n",
       "      <th>retention_1</th>\n",
       "      <th>retention_7</th>\n",
       "    </tr>\n",
       "  </thead>\n",
       "  <tbody>\n",
       "    <tr>\n",
       "      <th>0</th>\n",
       "      <td>116</td>\n",
       "      <td>gate_30</td>\n",
       "      <td>3</td>\n",
       "      <td>False</td>\n",
       "      <td>False</td>\n",
       "    </tr>\n",
       "    <tr>\n",
       "      <th>1</th>\n",
       "      <td>337</td>\n",
       "      <td>gate_30</td>\n",
       "      <td>38</td>\n",
       "      <td>True</td>\n",
       "      <td>False</td>\n",
       "    </tr>\n",
       "    <tr>\n",
       "      <th>2</th>\n",
       "      <td>377</td>\n",
       "      <td>gate_40</td>\n",
       "      <td>165</td>\n",
       "      <td>True</td>\n",
       "      <td>False</td>\n",
       "    </tr>\n",
       "    <tr>\n",
       "      <th>3</th>\n",
       "      <td>483</td>\n",
       "      <td>gate_40</td>\n",
       "      <td>1</td>\n",
       "      <td>False</td>\n",
       "      <td>False</td>\n",
       "    </tr>\n",
       "    <tr>\n",
       "      <th>4</th>\n",
       "      <td>488</td>\n",
       "      <td>gate_40</td>\n",
       "      <td>179</td>\n",
       "      <td>True</td>\n",
       "      <td>True</td>\n",
       "    </tr>\n",
       "  </tbody>\n",
       "</table>\n",
       "</div>"
      ],
      "text/plain": [
       "   userid  version  sum_gamerounds  retention_1  retention_7\n",
       "0     116  gate_30               3        False        False\n",
       "1     337  gate_30              38         True        False\n",
       "2     377  gate_40             165         True        False\n",
       "3     483  gate_40               1        False        False\n",
       "4     488  gate_40             179         True         True"
      ]
     },
     "execution_count": 2,
     "metadata": {},
     "output_type": "execute_result"
    }
   ],
   "source": [
    "df = pd.read_excel('cookie_cats.xlsx')\n",
    "df.head()"
   ]
  },
  {
   "cell_type": "code",
   "execution_count": 3,
   "id": "7220cfb7",
   "metadata": {},
   "outputs": [],
   "source": [
    "### sum_gamerounds: 自从下载游戏第一周玩了多少关\n",
    "#retention_1：当天是否离开\n",
    "#retention_7： 7天后是否离开"
   ]
  },
  {
   "cell_type": "code",
   "execution_count": 4,
   "id": "6e2ea411",
   "metadata": {},
   "outputs": [
    {
     "name": "stdout",
     "output_type": "stream",
     "text": [
      "<class 'pandas.core.frame.DataFrame'>\n",
      "RangeIndex: 90189 entries, 0 to 90188\n",
      "Data columns (total 5 columns):\n",
      " #   Column          Non-Null Count  Dtype \n",
      "---  ------          --------------  ----- \n",
      " 0   userid          90189 non-null  int64 \n",
      " 1   version         90189 non-null  object\n",
      " 2   sum_gamerounds  90189 non-null  int64 \n",
      " 3   retention_1     90189 non-null  bool  \n",
      " 4   retention_7     90189 non-null  bool  \n",
      "dtypes: bool(2), int64(2), object(1)\n",
      "memory usage: 2.2+ MB\n"
     ]
    }
   ],
   "source": [
    "df.info()"
   ]
  },
  {
   "cell_type": "code",
   "execution_count": 5,
   "id": "67e6f104",
   "metadata": {},
   "outputs": [
    {
     "data": {
      "text/plain": [
       "version\n",
       "gate_30    44700\n",
       "gate_40    45489\n",
       "Name: userid, dtype: int64"
      ]
     },
     "execution_count": 5,
     "metadata": {},
     "output_type": "execute_result"
    }
   ],
   "source": [
    "df.groupby(\"version\")[\"userid\"].count()"
   ]
  },
  {
   "cell_type": "code",
   "execution_count": 6,
   "id": "6f7753fd",
   "metadata": {},
   "outputs": [
    {
     "name": "stderr",
     "output_type": "stream",
     "text": [
      "C:\\Users\\keden\\AppData\\Local\\Temp\\ipykernel_3304\\2847354953.py:1: UserWarning: \n",
      "\n",
      "`distplot` is a deprecated function and will be removed in seaborn v0.14.0.\n",
      "\n",
      "Please adapt your code to use either `displot` (a figure-level function with\n",
      "similar flexibility) or `histplot` (an axes-level function for histograms).\n",
      "\n",
      "For a guide to updating your code to use the new functions, please see\n",
      "https://gist.github.com/mwaskom/de44147ed2974457ad6372750bbe5751\n",
      "\n",
      "  sns.distplot(df[\"sum_gamerounds\"], kde=True)\n"
     ]
    },
    {
     "data": {
      "text/plain": [
       "<Axes: xlabel='sum_gamerounds', ylabel='Density'>"
      ]
     },
     "execution_count": 6,
     "metadata": {},
     "output_type": "execute_result"
    },
    {
     "data": {
      "image/png": "[encoded data removed]",
      "text/plain": [
       "<Figure size 640x480 with 1 Axes>"
      ]
     },
     "metadata": {},
     "output_type": "display_data"
    }
   ],
   "source": [
    "sns.distplot(df[\"sum_gamerounds\"], kde=True)"
   ]
  },
  {
   "cell_type": "code",
   "execution_count": 7,
   "id": "55658792",
   "metadata": {},
   "outputs": [
    {
     "data": {
      "text/plain": [
       "57702    49854\n",
       "7912      2961\n",
       "29417     2640\n",
       "43671     2438\n",
       "48188     2294\n",
       "         ...  \n",
       "59687        0\n",
       "23707        0\n",
       "59670        0\n",
       "59645        0\n",
       "45094        0\n",
       "Name: sum_gamerounds, Length: 90189, dtype: int64"
      ]
     },
     "execution_count": 7,
     "metadata": {},
     "output_type": "execute_result"
    }
   ],
   "source": [
    "df[\"sum_gamerounds\"].sort_values(ascending=False)"
   ]
  },
  {
   "cell_type": "code",
   "execution_count": 8,
   "id": "9ed48803",
   "metadata": {},
   "outputs": [
    {
     "data": {
      "text/html": [
       "<div>\n",
       "<style scoped>\n",
       "    .dataframe tbody tr th:only-of-type {\n",
       "        vertical-align: middle;\n",
       "    }\n",
       "\n",
       "    .dataframe tbody tr th {\n",
       "        vertical-align: top;\n",
       "    }\n",
       "\n",
       "    .dataframe thead th {\n",
       "        text-align: right;\n",
       "    }\n",
       "</style>\n",
       "<table border=\"1\" class=\"dataframe\">\n",
       "  <thead>\n",
       "    <tr style=\"text-align: right;\">\n",
       "      <th></th>\n",
       "      <th>sum_gamerounds</th>\n",
       "      <th>userid</th>\n",
       "    </tr>\n",
       "  </thead>\n",
       "  <tbody>\n",
       "    <tr>\n",
       "      <th>448</th>\n",
       "      <td>448</td>\n",
       "      <td>1</td>\n",
       "    </tr>\n",
       "    <tr>\n",
       "      <th>471</th>\n",
       "      <td>471</td>\n",
       "      <td>1</td>\n",
       "    </tr>\n",
       "    <tr>\n",
       "      <th>501</th>\n",
       "      <td>501</td>\n",
       "      <td>1</td>\n",
       "    </tr>\n",
       "    <tr>\n",
       "      <th>522</th>\n",
       "      <td>522</td>\n",
       "      <td>1</td>\n",
       "    </tr>\n",
       "    <tr>\n",
       "      <th>533</th>\n",
       "      <td>533</td>\n",
       "      <td>1</td>\n",
       "    </tr>\n",
       "    <tr>\n",
       "      <th>...</th>\n",
       "      <td>...</td>\n",
       "      <td>...</td>\n",
       "    </tr>\n",
       "    <tr>\n",
       "      <th>937</th>\n",
       "      <td>2294</td>\n",
       "      <td>1</td>\n",
       "    </tr>\n",
       "    <tr>\n",
       "      <th>938</th>\n",
       "      <td>2438</td>\n",
       "      <td>1</td>\n",
       "    </tr>\n",
       "    <tr>\n",
       "      <th>939</th>\n",
       "      <td>2640</td>\n",
       "      <td>1</td>\n",
       "    </tr>\n",
       "    <tr>\n",
       "      <th>940</th>\n",
       "      <td>2961</td>\n",
       "      <td>1</td>\n",
       "    </tr>\n",
       "    <tr>\n",
       "      <th>941</th>\n",
       "      <td>49854</td>\n",
       "      <td>1</td>\n",
       "    </tr>\n",
       "  </tbody>\n",
       "</table>\n",
       "<p>239 rows × 2 columns</p>\n",
       "</div>"
      ],
      "text/plain": [
       "     sum_gamerounds  userid\n",
       "448             448       1\n",
       "471             471       1\n",
       "501             501       1\n",
       "522             522       1\n",
       "533             533       1\n",
       "..              ...     ...\n",
       "937            2294       1\n",
       "938            2438       1\n",
       "939            2640       1\n",
       "940            2961       1\n",
       "941           49854       1\n",
       "\n",
       "[239 rows x 2 columns]"
      ]
     },
     "execution_count": 8,
     "metadata": {},
     "output_type": "execute_result"
    }
   ],
   "source": [
    "plot_df=df.groupby(\"sum_gamerounds\")[\"userid\"].count().reset_index()\n",
    "plot_df[plot_df[\"userid\"]==1]"
   ]
  },
  {
   "cell_type": "code",
   "execution_count": 9,
   "id": "20032fdb",
   "metadata": {},
   "outputs": [
    {
     "data": {
      "text/html": [
       "<div>\n",
       "<style scoped>\n",
       "    .dataframe tbody tr th:only-of-type {\n",
       "        vertical-align: middle;\n",
       "    }\n",
       "\n",
       "    .dataframe tbody tr th {\n",
       "        vertical-align: top;\n",
       "    }\n",
       "\n",
       "    .dataframe thead th {\n",
       "        text-align: right;\n",
       "    }\n",
       "</style>\n",
       "<table border=\"1\" class=\"dataframe\">\n",
       "  <thead>\n",
       "    <tr style=\"text-align: right;\">\n",
       "      <th></th>\n",
       "      <th>userid</th>\n",
       "      <th>version</th>\n",
       "      <th>sum_gamerounds</th>\n",
       "      <th>retention_1</th>\n",
       "      <th>retention_7</th>\n",
       "    </tr>\n",
       "  </thead>\n",
       "  <tbody>\n",
       "    <tr>\n",
       "      <th>57702</th>\n",
       "      <td>6390605</td>\n",
       "      <td>gate_30</td>\n",
       "      <td>49854</td>\n",
       "      <td>False</td>\n",
       "      <td>True</td>\n",
       "    </tr>\n",
       "  </tbody>\n",
       "</table>\n",
       "</div>"
      ],
      "text/plain": [
       "        userid  version  sum_gamerounds  retention_1  retention_7\n",
       "57702  6390605  gate_30           49854        False         True"
      ]
     },
     "execution_count": 9,
     "metadata": {},
     "output_type": "execute_result"
    }
   ],
   "source": [
    "df[df[\"sum_gamerounds\"]==49854]"
   ]
  },
  {
   "cell_type": "code",
   "execution_count": 10,
   "id": "8030df84",
   "metadata": {},
   "outputs": [],
   "source": [
    "df.drop(57702,axis=0, inplace=True)"
   ]
  },
  {
   "cell_type": "code",
   "execution_count": 11,
   "id": "36a75d29",
   "metadata": {},
   "outputs": [
    {
     "data": {
      "text/html": [
       "<div>\n",
       "<style scoped>\n",
       "    .dataframe tbody tr th:only-of-type {\n",
       "        vertical-align: middle;\n",
       "    }\n",
       "\n",
       "    .dataframe tbody tr th {\n",
       "        vertical-align: top;\n",
       "    }\n",
       "\n",
       "    .dataframe thead th {\n",
       "        text-align: right;\n",
       "    }\n",
       "</style>\n",
       "<table border=\"1\" class=\"dataframe\">\n",
       "  <thead>\n",
       "    <tr style=\"text-align: right;\">\n",
       "      <th></th>\n",
       "      <th>userid</th>\n",
       "      <th>version</th>\n",
       "      <th>sum_gamerounds</th>\n",
       "      <th>retention_1</th>\n",
       "      <th>retention_7</th>\n",
       "    </tr>\n",
       "  </thead>\n",
       "  <tbody>\n",
       "  </tbody>\n",
       "</table>\n",
       "</div>"
      ],
      "text/plain": [
       "Empty DataFrame\n",
       "Columns: [userid, version, sum_gamerounds, retention_1, retention_7]\n",
       "Index: []"
      ]
     },
     "execution_count": 11,
     "metadata": {},
     "output_type": "execute_result"
    }
   ],
   "source": [
    "df[df[\"sum_gamerounds\"]==49854]"
   ]
  },
  {
   "cell_type": "code",
   "execution_count": 12,
   "id": "7a3c5983",
   "metadata": {},
   "outputs": [],
   "source": [
    "# df[\"userid\"].value_counts().sort_values(ascending=False)"
   ]
  },
  {
   "cell_type": "code",
   "execution_count": 13,
   "id": "2108a6e5",
   "metadata": {},
   "outputs": [],
   "source": [
    "# mean_rounds_retention_1 = df.groupby('retention_1')['sum_gamerounds'].mean()\n",
    "# mean_rounds_retention_7 = df.groupby('retention_7')['sum_gamerounds'].mean()"
   ]
  },
  {
   "cell_type": "code",
   "execution_count": 15,
   "id": "5f1498cb",
   "metadata": {},
   "outputs": [],
   "source": [
    "# sns.pairplot(data=df,hue=\"version\")"
   ]
  },
  {
   "cell_type": "code",
   "execution_count": 14,
   "id": "3b149746",
   "metadata": {},
   "outputs": [
    {
     "data": {
      "image/png": "[encoded data removed]",
      "text/plain": [
       "<Figure size 640x480 with 1 Axes>"
      ]
     },
     "metadata": {},
     "output_type": "display_data"
    },
    {
     "data": {
      "image/png": "[encoded data removed]",
      "text/plain": [
       "<Figure size 640x480 with 1 Axes>"
      ]
     },
     "metadata": {},
     "output_type": "display_data"
    }
   ],
   "source": [
    "sns.boxplot(x=df['retention_1'], y=df['sum_gamerounds'])\n",
    "plt.title('Gamerounds vs Retention Day 1')\n",
    "plt.show()\n",
    "sns.boxplot(x=df['retention_7'], y=df['sum_gamerounds'])\n",
    "plt.title('Gamerounds vs Retention Day 7')\n",
    "plt.show()"
   ]
  },
  {
   "cell_type": "code",
   "execution_count": 15,
   "id": "f5568d59",
   "metadata": {},
   "outputs": [
    {
     "data": {
      "text/html": [
       "<div>\n",
       "<style scoped>\n",
       "    .dataframe tbody tr th:only-of-type {\n",
       "        vertical-align: middle;\n",
       "    }\n",
       "\n",
       "    .dataframe tbody tr th {\n",
       "        vertical-align: top;\n",
       "    }\n",
       "\n",
       "    .dataframe thead th {\n",
       "        text-align: right;\n",
       "    }\n",
       "</style>\n",
       "<table border=\"1\" class=\"dataframe\">\n",
       "  <thead>\n",
       "    <tr style=\"text-align: right;\">\n",
       "      <th></th>\n",
       "      <th>userid_count</th>\n",
       "      <th>retention_count_1d</th>\n",
       "      <th>retention_rate_1d</th>\n",
       "    </tr>\n",
       "    <tr>\n",
       "      <th>version</th>\n",
       "      <th></th>\n",
       "      <th></th>\n",
       "      <th></th>\n",
       "    </tr>\n",
       "  </thead>\n",
       "  <tbody>\n",
       "    <tr>\n",
       "      <th>gate_30</th>\n",
       "      <td>44699</td>\n",
       "      <td>20034</td>\n",
       "      <td>0.448198</td>\n",
       "    </tr>\n",
       "    <tr>\n",
       "      <th>gate_40</th>\n",
       "      <td>45489</td>\n",
       "      <td>20119</td>\n",
       "      <td>0.442283</td>\n",
       "    </tr>\n",
       "  </tbody>\n",
       "</table>\n",
       "</div>"
      ],
      "text/plain": [
       "         userid_count  retention_count_1d  retention_rate_1d\n",
       "version                                                     \n",
       "gate_30         44699               20034           0.448198\n",
       "gate_40         45489               20119           0.442283"
      ]
     },
     "execution_count": 15,
     "metadata": {},
     "output_type": "execute_result"
    }
   ],
   "source": [
    "result_retention_1=df.groupby(\"version\").agg(\n",
    "    userid_count=(\"userid\",\"count\"),\n",
    "    retention_count_1d=(\"retention_1\",\"sum\"),\n",
    "    retention_rate_1d=(\"retention_1\",\"mean\") \n",
    "    )\n",
    "result_retention_1"
   ]
  },
  {
   "cell_type": "code",
   "execution_count": 16,
   "id": "cc0676d6",
   "metadata": {},
   "outputs": [
    {
     "data": {
      "text/html": [
       "<div>\n",
       "<style scoped>\n",
       "    .dataframe tbody tr th:only-of-type {\n",
       "        vertical-align: middle;\n",
       "    }\n",
       "\n",
       "    .dataframe tbody tr th {\n",
       "        vertical-align: top;\n",
       "    }\n",
       "\n",
       "    .dataframe thead th {\n",
       "        text-align: right;\n",
       "    }\n",
       "</style>\n",
       "<table border=\"1\" class=\"dataframe\">\n",
       "  <thead>\n",
       "    <tr style=\"text-align: right;\">\n",
       "      <th></th>\n",
       "      <th>userid_count</th>\n",
       "      <th>retention_count_7d</th>\n",
       "      <th>retention_rate_7d</th>\n",
       "    </tr>\n",
       "    <tr>\n",
       "      <th>version</th>\n",
       "      <th></th>\n",
       "      <th></th>\n",
       "      <th></th>\n",
       "    </tr>\n",
       "  </thead>\n",
       "  <tbody>\n",
       "    <tr>\n",
       "      <th>gate_30</th>\n",
       "      <td>44699</td>\n",
       "      <td>8501</td>\n",
       "      <td>0.190183</td>\n",
       "    </tr>\n",
       "    <tr>\n",
       "      <th>gate_40</th>\n",
       "      <td>45489</td>\n",
       "      <td>8279</td>\n",
       "      <td>0.182000</td>\n",
       "    </tr>\n",
       "  </tbody>\n",
       "</table>\n",
       "</div>"
      ],
      "text/plain": [
       "         userid_count  retention_count_7d  retention_rate_7d\n",
       "version                                                     \n",
       "gate_30         44699                8501           0.190183\n",
       "gate_40         45489                8279           0.182000"
      ]
     },
     "execution_count": 16,
     "metadata": {},
     "output_type": "execute_result"
    }
   ],
   "source": [
    "result_retention_7=df.groupby(\"version\").agg(\n",
    "    userid_count=(\"userid\",\"count\"),\n",
    "    retention_count_7d=(\"retention_7\",\"sum\"),\n",
    "    retention_rate_7d=(\"retention_7\",\"mean\") \n",
    "    )\n",
    "result_retention_7"
   ]
  },
  {
   "cell_type": "markdown",
   "id": "a21e891d",
   "metadata": {},
   "source": [
    "## Comparing 1-day Retention"
   ]
  },
  {
   "cell_type": "markdown",
   "id": "2d1a37c5",
   "metadata": {},
   "source": [
    "h0: day1 retention rate of gate_30 <=gate40\n",
    "ha：day1 retention rate of gate 40 > gate 30"
   ]
  },
  {
   "cell_type": "markdown",
   "id": "f4bc060c",
   "metadata": {},
   "source": [
    "### method1: mannual z-score"
   ]
  },
  {
   "cell_type": "code",
   "execution_count": 17,
   "id": "d1932eb9",
   "metadata": {},
   "outputs": [],
   "source": [
    "p_30_retention1=result_retention_1.loc[\"gate_30\",\"retention_rate_1d\"]\n",
    "p_40_retention1=result_retention_1.loc[\"gate_40\",\"retention_rate_1d\"]\n",
    "\n",
    "n_30_retention1=result_retention_1.loc[\"gate_30\",\"userid_count\"]\n",
    "n_40_retention1=result_retention_1.loc[\"gate_40\",\"userid_count\"]\n",
    "\n",
    "x_30_retention1=result_retention_1.loc[\"gate_30\",\"retention_count_1d\"]\n",
    "x_40_retention1=result_retention_1.loc[\"gate_40\",\"retention_count_1d\"]"
   ]
  },
  {
   "cell_type": "code",
   "execution_count": 18,
   "id": "5e6e61d7",
   "metadata": {},
   "outputs": [],
   "source": [
    "def z_test(p1,p0,n1,n0):\n",
    "    delta=p1-p0\n",
    "    p=(p1*n1+p0*n0)/(n1+n0)\n",
    "    return delta/np.sqrt(p*(1-p)*(1/n1+1/n0))"
   ]
  },
  {
   "cell_type": "code",
   "execution_count": 19,
   "id": "c693e302",
   "metadata": {},
   "outputs": [
    {
     "data": {
      "text/plain": [
       "-1.787103509763628"
      ]
     },
     "execution_count": 19,
     "metadata": {},
     "output_type": "execute_result"
    }
   ],
   "source": [
    "z_score_retention_1d=z_test(p_40_retention1,p_30_retention1,n_40_retention1,n_30_retention1)\n",
    "z_score_retention_1d"
   ]
  },
  {
   "cell_type": "code",
   "execution_count": 20,
   "id": "9a3beedb",
   "metadata": {},
   "outputs": [
    {
     "data": {
      "text/plain": [
       "0.9630396198290827"
      ]
     },
     "execution_count": 20,
     "metadata": {},
     "output_type": "execute_result"
    }
   ],
   "source": [
    "from scipy.stats import norm\n",
    "p_value_retention_1d=1-norm.cdf(z_score_retention_1d)\n",
    "p_value_retention_1d"
   ]
  },
  {
   "cell_type": "markdown",
   "id": "4dbe55c9",
   "metadata": {},
   "source": [
    "###  method 2: package"
   ]
  },
  {
   "cell_type": "code",
   "execution_count": 23,
   "id": "0dec3bc4",
   "metadata": {},
   "outputs": [],
   "source": [
    "import statsmodels.api as sm"
   ]
  },
  {
   "cell_type": "code",
   "execution_count": 25,
   "id": "83d252ea",
   "metadata": {},
   "outputs": [
    {
     "data": {
      "text/plain": [
       "(-1.787103509763628, 0.9630396198290827)"
      ]
     },
     "execution_count": 25,
     "metadata": {},
     "output_type": "execute_result"
    }
   ],
   "source": [
    "z_score_retention_1d,p_value_retention_1d=sm.stats.proportions_ztest([x_40_retention1,x_30_retention1],[n_40_retention1,n_30_retention1],alternative=\"larger\")\n",
    "z_score_retention_1d,p_value_retention_1d"
   ]
  },
  {
   "cell_type": "markdown",
   "id": "8d39cf26",
   "metadata": {},
   "source": [
    "### method 3: boostrapping"
   ]
  },
  {
   "cell_type": "code",
   "execution_count": 26,
   "id": "fa1161fb",
   "metadata": {},
   "outputs": [
    {
     "data": {
      "text/plain": [
       "version\n",
       "gate_30    0.453307\n",
       "gate_40    0.437115\n",
       "Name: retention_1, dtype: float64"
      ]
     },
     "execution_count": 26,
     "metadata": {},
     "output_type": "execute_result"
    }
   ],
   "source": [
    "df.sample(frac = 1,replace = True).groupby(\"version\")[\"retention_1\"].mean()"
   ]
  },
  {
   "cell_type": "code",
   "execution_count": 33,
   "id": "8ba2e52a",
   "metadata": {},
   "outputs": [],
   "source": [
    "boostrap_list_1d=[]\n",
    "for i in range(1000):\n",
    "    bootmean=df.sample(frac = 1,replace = True).groupby(\"version\")[\"retention_1\"].mean()\n",
    "    boostrap_list_1d.append(bootmean)"
   ]
  },
  {
   "cell_type": "code",
   "execution_count": 34,
   "id": "57510619",
   "metadata": {},
   "outputs": [
    {
     "data": {
      "text/html": [
       "<div>\n",
       "<style scoped>\n",
       "    .dataframe tbody tr th:only-of-type {\n",
       "        vertical-align: middle;\n",
       "    }\n",
       "\n",
       "    .dataframe tbody tr th {\n",
       "        vertical-align: top;\n",
       "    }\n",
       "\n",
       "    .dataframe thead th {\n",
       "        text-align: right;\n",
       "    }\n",
       "</style>\n",
       "<table border=\"1\" class=\"dataframe\">\n",
       "  <thead>\n",
       "    <tr style=\"text-align: right;\">\n",
       "      <th>version</th>\n",
       "      <th>gate_30</th>\n",
       "      <th>gate_40</th>\n",
       "    </tr>\n",
       "  </thead>\n",
       "  <tbody>\n",
       "    <tr>\n",
       "      <th>retention_1</th>\n",
       "      <td>0.448899</td>\n",
       "      <td>0.445389</td>\n",
       "    </tr>\n",
       "    <tr>\n",
       "      <th>retention_1</th>\n",
       "      <td>0.450488</td>\n",
       "      <td>0.440853</td>\n",
       "    </tr>\n",
       "    <tr>\n",
       "      <th>retention_1</th>\n",
       "      <td>0.450065</td>\n",
       "      <td>0.438621</td>\n",
       "    </tr>\n",
       "    <tr>\n",
       "      <th>retention_1</th>\n",
       "      <td>0.448304</td>\n",
       "      <td>0.444776</td>\n",
       "    </tr>\n",
       "    <tr>\n",
       "      <th>retention_1</th>\n",
       "      <td>0.449808</td>\n",
       "      <td>0.440956</td>\n",
       "    </tr>\n",
       "  </tbody>\n",
       "</table>\n",
       "</div>"
      ],
      "text/plain": [
       "version       gate_30   gate_40\n",
       "retention_1  0.448899  0.445389\n",
       "retention_1  0.450488  0.440853\n",
       "retention_1  0.450065  0.438621\n",
       "retention_1  0.448304  0.444776\n",
       "retention_1  0.449808  0.440956"
      ]
     },
     "execution_count": 34,
     "metadata": {},
     "output_type": "execute_result"
    }
   ],
   "source": [
    "boostrap_1d=pd.DataFrame(boostrap_list_1d)\n",
    "boostrap_1d.head()"
   ]
  },
  {
   "cell_type": "code",
   "execution_count": 35,
   "id": "f09629f3",
   "metadata": {},
   "outputs": [
    {
     "data": {
      "text/plain": [
       "<Axes: ylabel='Density'>"
      ]
     },
     "execution_count": 35,
     "metadata": {},
     "output_type": "execute_result"
    },
    {
     "data": {
      "image/png": "[encoded data removed]",
      "text/plain": [
       "<Figure size 640x480 with 1 Axes>"
      ]
     },
     "metadata": {},
     "output_type": "display_data"
    }
   ],
   "source": [
    "sns.kdeplot(boostrap_1d)"
   ]
  },
  {
   "cell_type": "code",
   "execution_count": 36,
   "id": "dab416c0",
   "metadata": {},
   "outputs": [],
   "source": [
    "boostrap_1d[\"diff\"]=(boostrap_1d[\"gate_30\"]-boostrap_1d[\"gate_40\"])/boostrap_1d[\"gate_40\"]*100"
   ]
  },
  {
   "cell_type": "code",
   "execution_count": 37,
   "id": "af0f63be",
   "metadata": {},
   "outputs": [
    {
     "data": {
      "text/plain": [
       "Text(0.5, 1.0, '% different in 1day retation rate between gate_30 and gate 40')"
      ]
     },
     "execution_count": 37,
     "metadata": {},
     "output_type": "execute_result"
    },
    {
     "data": {
      "image/png": "[encoded data removed]",
      "text/plain": [
       "<Figure size 640x480 with 1 Axes>"
      ]
     },
     "metadata": {},
     "output_type": "display_data"
    }
   ],
   "source": [
    "sns.kdeplot(boostrap_1d[\"diff\"])\n",
    "plt.title(\"% different in 1 day retation rate between gate_30 and gate 40\")"
   ]
  },
  {
   "cell_type": "code",
   "execution_count": 38,
   "id": "c010dea5",
   "metadata": {},
   "outputs": [
    {
     "data": {
      "text/plain": [
       "0.963"
      ]
     },
     "execution_count": 38,
     "metadata": {},
     "output_type": "execute_result"
    }
   ],
   "source": [
    "(boostrap_1d[\"diff\"]>0).mean()"
   ]
  },
  {
   "cell_type": "markdown",
   "id": "db8c3241",
   "metadata": {},
   "source": [
    "#### From this chart, we can see that the most likely % difference is around 1% - 2%, and that 96% of the distribution is above 0%, in favor of a gate at level 30. "
   ]
  },
  {
   "cell_type": "markdown",
   "id": "33ae3682",
   "metadata": {},
   "source": [
    "## Comparing 7-day Retention"
   ]
  },
  {
   "cell_type": "markdown",
   "id": "ae0a5fa1",
   "metadata": {},
   "source": [
    "### method1: mannual z-score"
   ]
  },
  {
   "cell_type": "markdown",
   "id": "cccc45b1",
   "metadata": {},
   "source": [
    "h0: day 7 retention rate of gate_30 <=gate40\n",
    "ha：day 7 retention rate of gate 40 > gate 30"
   ]
  },
  {
   "cell_type": "code",
   "execution_count": 39,
   "id": "f4e534d9",
   "metadata": {},
   "outputs": [
    {
     "data": {
      "text/html": [
       "<div>\n",
       "<style scoped>\n",
       "    .dataframe tbody tr th:only-of-type {\n",
       "        vertical-align: middle;\n",
       "    }\n",
       "\n",
       "    .dataframe tbody tr th {\n",
       "        vertical-align: top;\n",
       "    }\n",
       "\n",
       "    .dataframe thead th {\n",
       "        text-align: right;\n",
       "    }\n",
       "</style>\n",
       "<table border=\"1\" class=\"dataframe\">\n",
       "  <thead>\n",
       "    <tr style=\"text-align: right;\">\n",
       "      <th></th>\n",
       "      <th>userid_count</th>\n",
       "      <th>retention_count_7d</th>\n",
       "      <th>retention_rate_7d</th>\n",
       "    </tr>\n",
       "    <tr>\n",
       "      <th>version</th>\n",
       "      <th></th>\n",
       "      <th></th>\n",
       "      <th></th>\n",
       "    </tr>\n",
       "  </thead>\n",
       "  <tbody>\n",
       "    <tr>\n",
       "      <th>gate_30</th>\n",
       "      <td>44699</td>\n",
       "      <td>8501</td>\n",
       "      <td>0.190183</td>\n",
       "    </tr>\n",
       "    <tr>\n",
       "      <th>gate_40</th>\n",
       "      <td>45489</td>\n",
       "      <td>8279</td>\n",
       "      <td>0.182000</td>\n",
       "    </tr>\n",
       "  </tbody>\n",
       "</table>\n",
       "</div>"
      ],
      "text/plain": [
       "         userid_count  retention_count_7d  retention_rate_7d\n",
       "version                                                     \n",
       "gate_30         44699                8501           0.190183\n",
       "gate_40         45489                8279           0.182000"
      ]
     },
     "execution_count": 39,
     "metadata": {},
     "output_type": "execute_result"
    }
   ],
   "source": [
    "result_retention_7"
   ]
  },
  {
   "cell_type": "code",
   "execution_count": 40,
   "id": "ed1d262b",
   "metadata": {},
   "outputs": [],
   "source": [
    "x_30_retention7=result_retention_7.loc[\"gate_30\",\"retention_count_7d\"]\n",
    "x_40_retention7=result_retention_7.loc[\"gate_40\",\"retention_count_7d\"]\n",
    "\n",
    "n_30_retention7=result_retention_7.loc[\"gate_30\",\"userid_count\"]\n",
    "n_40_retention7=result_retention_7.loc[\"gate_40\",\"userid_count\"]\n",
    "\n",
    "p_30_retention7=result_retention_7.loc[\"gate_30\",\"retention_rate_7d\"]\n",
    "p_40_retention7=result_retention_7.loc[\"gate_40\",\"retention_rate_7d\"]"
   ]
  },
  {
   "cell_type": "code",
   "execution_count": 41,
   "id": "6b1e961b",
   "metadata": {},
   "outputs": [
    {
     "data": {
      "text/plain": [
       "-3.1574100858819936"
      ]
     },
     "execution_count": 41,
     "metadata": {},
     "output_type": "execute_result"
    }
   ],
   "source": [
    "z_score=z_test(p_40_retention7,p_30_retention7,n_40_retention7,n_30_retention7)\n",
    "z_score"
   ]
  },
  {
   "cell_type": "code",
   "execution_count": 42,
   "id": "9393ba56",
   "metadata": {},
   "outputs": [
    {
     "data": {
      "text/plain": [
       "0.9992041134113003"
      ]
     },
     "execution_count": 42,
     "metadata": {},
     "output_type": "execute_result"
    }
   ],
   "source": [
    "p_value=1-norm.cdf(z_score)\n",
    "p_value"
   ]
  },
  {
   "cell_type": "markdown",
   "id": "02d084ce",
   "metadata": {},
   "source": [
    "###  method 2: package"
   ]
  },
  {
   "cell_type": "code",
   "execution_count": 43,
   "id": "66f8142b",
   "metadata": {},
   "outputs": [
    {
     "data": {
      "text/plain": [
       "(-3.1574100858819936, 0.9992041134113003)"
      ]
     },
     "execution_count": 43,
     "metadata": {},
     "output_type": "execute_result"
    }
   ],
   "source": [
    "import statsmodels.api as sm\n",
    "z_score,p_value=sm.stats.proportions_ztest([x_40_retention7,x_30_retention7],[n_40_retention7,n_30_retention7],alternative=\"larger\")\n",
    "z_score,p_value"
   ]
  },
  {
   "cell_type": "markdown",
   "id": "11bbead4",
   "metadata": {},
   "source": [
    "### method 3: boostrapping"
   ]
  },
  {
   "cell_type": "code",
   "execution_count": 44,
   "id": "d689d72b",
   "metadata": {},
   "outputs": [],
   "source": [
    "boostrap_list_7d=[]\n",
    "for i in range(1000):\n",
    "    boostmean=df.sample(frac=1,replace=True).groupby('version')[\"retention_7\"].mean()\n",
    "    boostrap_list_7d.append(boostmean)"
   ]
  },
  {
   "cell_type": "code",
   "execution_count": 45,
   "id": "e3503cd0",
   "metadata": {},
   "outputs": [
    {
     "data": {
      "text/plain": [
       "<Axes: ylabel='Density'>"
      ]
     },
     "execution_count": 45,
     "metadata": {},
     "output_type": "execute_result"
    },
    {
     "data": {
      "image/png": "[encoded data removed]",
      "text/plain": [
       "<Figure size 640x480 with 1 Axes>"
      ]
     },
     "metadata": {},
     "output_type": "display_data"
    }
   ],
   "source": [
    "boostrap_7d=pd.DataFrame(boostrap_list_7d)\n",
    "sns.kdeplot(boostrap_7d)"
   ]
  },
  {
   "cell_type": "code",
   "execution_count": 46,
   "id": "59281423",
   "metadata": {},
   "outputs": [
    {
     "data": {
      "text/html": [
       "<div>\n",
       "<style scoped>\n",
       "    .dataframe tbody tr th:only-of-type {\n",
       "        vertical-align: middle;\n",
       "    }\n",
       "\n",
       "    .dataframe tbody tr th {\n",
       "        vertical-align: top;\n",
       "    }\n",
       "\n",
       "    .dataframe thead th {\n",
       "        text-align: right;\n",
       "    }\n",
       "</style>\n",
       "<table border=\"1\" class=\"dataframe\">\n",
       "  <thead>\n",
       "    <tr style=\"text-align: right;\">\n",
       "      <th>version</th>\n",
       "      <th>gate_30</th>\n",
       "      <th>gate_40</th>\n",
       "    </tr>\n",
       "  </thead>\n",
       "  <tbody>\n",
       "    <tr>\n",
       "      <th>retention_7</th>\n",
       "      <td>0.187711</td>\n",
       "      <td>0.180977</td>\n",
       "    </tr>\n",
       "    <tr>\n",
       "      <th>retention_7</th>\n",
       "      <td>0.189793</td>\n",
       "      <td>0.184013</td>\n",
       "    </tr>\n",
       "    <tr>\n",
       "      <th>retention_7</th>\n",
       "      <td>0.188971</td>\n",
       "      <td>0.182673</td>\n",
       "    </tr>\n",
       "    <tr>\n",
       "      <th>retention_7</th>\n",
       "      <td>0.188194</td>\n",
       "      <td>0.184014</td>\n",
       "    </tr>\n",
       "    <tr>\n",
       "      <th>retention_7</th>\n",
       "      <td>0.190260</td>\n",
       "      <td>0.182269</td>\n",
       "    </tr>\n",
       "  </tbody>\n",
       "</table>\n",
       "</div>"
      ],
      "text/plain": [
       "version       gate_30   gate_40\n",
       "retention_7  0.187711  0.180977\n",
       "retention_7  0.189793  0.184013\n",
       "retention_7  0.188971  0.182673\n",
       "retention_7  0.188194  0.184014\n",
       "retention_7  0.190260  0.182269"
      ]
     },
     "execution_count": 46,
     "metadata": {},
     "output_type": "execute_result"
    }
   ],
   "source": [
    "boostrap_7d.head()"
   ]
  },
  {
   "cell_type": "code",
   "execution_count": 47,
   "id": "9fc81395",
   "metadata": {},
   "outputs": [],
   "source": [
    "boostrap_7d[\"diff\"]=(boostrap_7d[\"gate_30\"]-boostrap_7d[\"gate_40\"])/boostrap_7d[\"gate_40\"]*100"
   ]
  },
  {
   "cell_type": "code",
   "execution_count": 48,
   "id": "adaeac3a",
   "metadata": {},
   "outputs": [
    {
     "data": {
      "text/plain": [
       "<Axes: xlabel='diff', ylabel='Density'>"
      ]
     },
     "execution_count": 48,
     "metadata": {},
     "output_type": "execute_result"
    },
    {
     "data": {
      "image/png": "[encoded data removed]",
      "text/plain": [
       "<Figure size 640x480 with 1 Axes>"
      ]
     },
     "metadata": {},
     "output_type": "display_data"
    }
   ],
   "source": [
    "sns.kdeplot(boostrap_7d[\"diff\"])"
   ]
  },
  {
   "cell_type": "code",
   "execution_count": 49,
   "id": "d8188686",
   "metadata": {},
   "outputs": [
    {
     "data": {
      "text/plain": [
       "0.998"
      ]
     },
     "execution_count": 49,
     "metadata": {},
     "output_type": "execute_result"
    }
   ],
   "source": [
    "(boostrap_7d[\"diff\"]>0).mean()"
   ]
  },
  {
   "cell_type": "markdown",
   "id": "f0176154",
   "metadata": {},
   "source": [
    "#### From this chart, we can see that the most likely % difference is around 2% - 6%, and that 99% of the distribution is above 0%, in favor of a gate at level 30. "
   ]
  },
  {
   "cell_type": "code",
   "execution_count": null,
   "id": "f8a185c2",
   "metadata": {},
   "outputs": [],
   "source": []
  }
 ],
 "metadata": {
  "kernelspec": {
   "display_name": "Python 3 (ipykernel)",
   "language": "python",
   "name": "python3"
  },
  "language_info": {
   "codemirror_mode": {
    "name": "ipython",
    "version": 3
   },
   "file_extension": ".py",
   "mimetype": "text/x-python",
   "name": "python",
   "nbconvert_exporter": "python",
   "pygments_lexer": "ipython3",
   "version": "3.11.5"
  }
 },
 "nbformat": 4,
 "nbformat_minor": 5
}
